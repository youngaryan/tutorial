{
 "cells": [
  {
   "cell_type": "markdown",
   "id": "def20efb",
   "metadata": {},
   "source": [
    "# COM2004/3004 - Understanding Sampling "
   ]
  },
  {
   "cell_type": "markdown",
   "id": "2f34bf11",
   "metadata": {},
   "source": [
    "*Copyright &copy; 2023 University of Sheffield. All rights reserved*."
   ]
  },
  {
   "cell_type": "markdown",
   "id": "ecb719d3",
   "metadata": {},
   "source": [
    "## Objectives\n",
    "\n",
    "* To gain an intuitive understanding of sample statistics.\n",
    "\n",
    "## 1. Background\n",
    "\n",
    "In this lab class you will be using data that represents the weights and lengths of male and female **Bengal tigers**. In order to build classifiers we are going to want to be able to estimate the means (i.e., averages), variances and covariance of these measurements. In order to discover the true means and variances we would have to catch and measure every one of the roughly 2,500 tigers that are thought to exist – a project that is clearly impractical. So instead, we will have to be satisfied with an **estimate** of the true mean and variance that we will generate by looking at the statistics of a small **sample** of tigers (e.g., we might catch and measure 20 animals). The need to rely on a sample is generally always going to be the case: we will be interested in the statistics of a large population, but we will have to make do with estimates derived from a smaller – often much smaller – sample.\n",
    "\n",
    "**The notebook is split into two parts.**\n",
    "\n",
    "**In Part 1** we will be using Python to find out what happens when we try to compute estimates of statistics using small samples. We will see how the reliability of the estimates improves as the sample size increases. We will also see how estimates of variance and covariance can be biased (i.e., systematically too small or too large) if we do not handle the sample correctly.\n",
    "\n",
    "**Part 2 consists of some Python programming challenges.**\n",
    "\n",
    "Spend about half the lab class on each part. If you have not completed Part 1 after an hour then move on to Part 2 and return to Part 1 later."
   ]
  },
  {
   "cell_type": "markdown",
   "id": "020c2e41",
   "metadata": {},
   "source": [
    "## PART 1 – Sample Statistics\n",
    "\n",
    "## 2. Loading and understanding the data\n",
    "\n",
    "The tiger population data we are using has been made up (i.e., no-one really knows the weights and lengths of every living Bengal tiger) but it has been generated to be consistent with the ranges of weight and length that are quoted on Wikipedia. It has also been engineered so that the population statistics are nice round numbers, i.e., just to make things a little clearer.\n",
    "\n",
    "(**Remember, to execute a cell, first click on it so that it is in focus and then click the run button in the tool bar, or shift-enter**).\n",
    "\n",
    "Run the cell below to load the data."
   ]
  },
  {
   "cell_type": "code",
   "execution_count": 3,
   "id": "fd63a646",
   "metadata": {},
   "outputs": [],
   "source": [
    "import numpy as np\n",
    "\n",
    "female_tigers = np.loadtxt(open(\"data/female_tigers.txt\", \"rb\")).T\n",
    "male_tigers = np.loadtxt(open(\"data/male_tigers.txt\", \"rb\")).T"
   ]
  },
  {
   "cell_type": "markdown",
   "id": "36d619d0",
   "metadata": {},
   "source": [
    "You will now have two matrices each with 1,250 rows and two columns. The rows represent the tigers (1,250 of each gender). The first columns gives the weight (in kg) and the second column the length (in cm)."
   ]
  },
  {
   "cell_type": "code",
   "execution_count": 4,
   "id": "e06cf20b",
   "metadata": {},
   "outputs": [
    {
     "name": "stdout",
     "output_type": "stream",
     "text": [
      "(1250, 2)\n",
      "[[265.45546 166.52825]\n",
      " [253.22609 155.87294]\n",
      " [265.74264 157.97255]\n",
      " ...\n",
      " [259.56265 167.39329]\n",
      " [275.41995 178.16941]\n",
      " [269.91208 160.80506]]\n"
     ]
    }
   ],
   "source": [
    "print(female_tigers.shape)\n",
    "print(female_tigers)"
   ]
  },
  {
   "cell_type": "markdown",
   "id": "fef9985c",
   "metadata": {},
   "source": [
    "We have access to the data for all the tigers so we can compute the true mean and variance of the weight and length features. For example, for the female tigers try,"
   ]
  },
  {
   "cell_type": "code",
   "execution_count": 11,
   "id": "8d731e15",
   "metadata": {},
   "outputs": [
    {
     "name": "stdout",
     "output_type": "stream",
     "text": [
      "[259.99999999 160.00000004]\n",
      "[ 49.96000173 119.90400031]\n"
     ]
    }
   ],
   "source": [
    "print(np.mean(female_tigers, axis=0))\n",
    "print(np.var(female_tigers, axis=0))"
   ]
  },
  {
   "cell_type": "markdown",
   "id": "801db7aa",
   "metadata": {},
   "source": [
    "We are now going to imagine that we do not know this truth but need to estimate it from a small sample of tigers that have been caught, weighed and measured."
   ]
  },
  {
   "cell_type": "markdown",
   "id": "975f2fac",
   "metadata": {},
   "source": [
    "## 3. Sampling the data\n",
    "\n",
    "Imagine that you have gone out and caught 20 female tigers and measured them. You would now know the measurements of 20 tigers of the 1250 that exist. Let’s simulate this experiment by taking the first 20 of the female tigers from our complete population data"
   ]
  },
  {
   "cell_type": "code",
   "execution_count": 12,
   "id": "70eb6c61",
   "metadata": {},
   "outputs": [],
   "source": [
    "sample = female_tigers[0:20, :]"
   ]
  },
  {
   "cell_type": "markdown",
   "id": "e18d940a",
   "metadata": {},
   "source": [
    "Let’s compute the mean and variance of both the length and weight features in our sample,"
   ]
  },
  {
   "cell_type": "code",
   "execution_count": 13,
   "id": "a1e1fe5d",
   "metadata": {},
   "outputs": [
    {
     "name": "stdout",
     "output_type": "stream",
     "text": [
      "[260.794985 160.173054]\n",
      "[47.41292601 74.2750873 ]\n"
     ]
    }
   ],
   "source": [
    "print(np.mean(sample, axis=0))\n",
    "print(np.var(sample, axis=0))"
   ]
  },
  {
   "cell_type": "markdown",
   "id": "b55fc61f",
   "metadata": {},
   "source": [
    "Notice how these estimates are not the same as the true mean and variance. But how close to the real values are they likely to be?\n",
    "\n",
    "## 4. Repeated sampling\n",
    "\n",
    "If we repeated our experiment and caught 20 different tigers we would get a different set of measurement and hence a different estimate of the mean and variance. Using Python we can simulate running this experiment 1000’s of times (i.e., catching a different 20 random tigers each time) and getting 1000’s of different estimates of the mean and variance. We can then plot a histogram of these estimates and compare them to the true mean and variance values, which we calculated above using knowledge of all 2500 tigers (and which we would not know in reality).\n",
    "\n",
    "Let us write the code to perform the repeated sampling. In order to select 20 random tigers we use the `random.choice` function from Python's numpy library. This function can return randomly chosen integers between 0 and some maximum value. It can be instructed to select them 'without replacement' i.e. so that the same number cannot be chosen twice. We will use this to make an array of random indices amd then use this array to select random columns from the female_tiger data matrix."
   ]
  },
  {
   "cell_type": "code",
   "execution_count": 22,
   "id": "2ab0ca00",
   "metadata": {},
   "outputs": [
    {
     "name": "stdout",
     "output_type": "stream",
     "text": [
      "[[255.11948 156.99037]\n",
      " [265.16069 158.65567]\n",
      " [267.69134 178.43544]\n",
      " [266.44777 159.71324]\n",
      " [268.01044 162.03205]\n",
      " [257.68928 149.99301]\n",
      " [252.21198 147.17301]\n",
      " [262.7764  164.19525]\n",
      " [264.20313 164.53754]\n",
      " [256.78438 159.55211]\n",
      " [267.46161 166.46805]\n",
      " [267.23755 181.63486]\n",
      " [251.11426 146.29499]\n",
      " [253.17057 157.68694]\n",
      " [255.40111 138.41642]\n",
      " [259.48518 163.57069]\n",
      " [253.16689 149.21485]\n",
      " [249.67735 157.44589]\n",
      " [265.47234 155.26356]\n",
      " [268.92345 178.73291]]\n"
     ]
    }
   ],
   "source": [
    "chosen = np.random.choice(female_tigers.shape[0], 20, replace=False)\n",
    "sample = female_tigers[chosen, :]\n",
    "print(sample)"
   ]
  },
  {
   "cell_type": "markdown",
   "id": "9aa6fad9",
   "metadata": {},
   "source": [
    "Now, using this new sample, re-compute the sample mean and variance for the tiger weights. We will see that the result has changed, i.e., the new sample has produced different estimates."
   ]
  },
  {
   "cell_type": "code",
   "execution_count": 23,
   "id": "e7fe0a6d",
   "metadata": {},
   "outputs": [
    {
     "name": "stdout",
     "output_type": "stream",
     "text": [
      "260.36026000000004\n",
      "41.617733747050025\n"
     ]
    }
   ],
   "source": [
    "print(np.mean(sample[:, 0]))\n",
    "print(np.var(sample[:, 0]))"
   ]
  },
  {
   "cell_type": "markdown",
   "id": "cffb4a5b",
   "metadata": {},
   "source": [
    "Run the above two cells over and over again. Note how each time you get a different mean and variance estimate.\n",
    "\n",
    "## 5. Writing a sampling function\n",
    "\n",
    "We are now going to wrap our sampling and mean and variance calculations into an easily reusable function.\n",
    "\n",
    "The function’s inputs should be the complete population data and the sample size; the output should be the mean and variance estimates, i.e., the first line of the function should look like this,\n",
    "\n",
    "    def calc_sample_stats(data, N)\n",
    "\n",
    "and the function's return statement will be,\n",
    "\n",
    "    return mean_estimate, var_estimate\n",
    "\n",
    "The full code is below,"
   ]
  },
  {
   "cell_type": "code",
   "execution_count": 29,
   "id": "f02cd7bc",
   "metadata": {},
   "outputs": [
    {
     "name": "stdout",
     "output_type": "stream",
     "text": [
      "(array([259.554094, 161.238441]), array([33.28464089, 62.47399807]))\n"
     ]
    }
   ],
   "source": [
    "def calc_sample_stats(data, N):\n",
    "    chosen = np.random.choice(data.shape[0], N, replace=False)\n",
    "    sample = data[chosen, :]\n",
    "    mean_estimate = np.mean(sample, axis=0)\n",
    "    var_estimate = np.var(sample, axis=0)\n",
    "    return mean_estimate, var_estimate\n",
    "\n",
    "\n",
    "print(calc_sample_stats(female_tigers, 20))"
   ]
  },
  {
   "cell_type": "markdown",
   "id": "deb06976",
   "metadata": {},
   "source": [
    "Test the function the using different values of $N$ in the cell below,"
   ]
  },
  {
   "cell_type": "code",
   "execution_count": 36,
   "id": "0af75089",
   "metadata": {},
   "outputs": [
    {
     "name": "stdout",
     "output_type": "stream",
     "text": [
      "(array([290.8879405, 200.724395 ]), array([ 80.71231358, 174.31456593]))\n"
     ]
    }
   ],
   "source": [
    "# Write your solution here\n",
    "\n",
    "print(calc_sample_stats(male_tigers, 20))"
   ]
  },
  {
   "cell_type": "markdown",
   "id": "69354df9",
   "metadata": {},
   "source": [
    "Now we will write another function called `do_sampling`. This function is going to call the `calc_sample_stats` function lots of times by using a loop. It will save the results of each run in a Python array."
   ]
  },
  {
   "cell_type": "code",
   "execution_count": 37,
   "id": "9f20cf76",
   "metadata": {},
   "outputs": [],
   "source": [
    "def do_sampling(data, sample_size, n_repeats):\n",
    "    sample_means = np.zeros((n_repeats, 2))\n",
    "    sample_vars = np.zeros((n_repeats, 2))\n",
    "    for i in range(n_repeats):\n",
    "        sample_means[i, :], sample_vars[i, :] = calc_sample_stats(\n",
    "            female_tigers, sample_size\n",
    "        )\n",
    "    return sample_means, sample_vars\n",
    "\n",
    "\n",
    "sample_means, sample_vars = do_sampling(female_tigers, 20, 10)"
   ]
  },
  {
   "cell_type": "markdown",
   "id": "97fa7894",
   "metadata": {},
   "source": [
    "We can now use matplotlib to plot a histogram of the results,"
   ]
  },
  {
   "cell_type": "code",
   "execution_count": 38,
   "id": "31018bb3",
   "metadata": {},
   "outputs": [
    {
     "data": {
      "image/png": "[encoded data removed]",
      "text/plain": [
       "<Figure size 640x480 with 1 Axes>"
      ]
     },
     "metadata": {},
     "output_type": "display_data"
    }
   ],
   "source": [
    "import matplotlib.pyplot as plt\n",
    "\n",
    "sample_means, sample_vars = do_sampling(female_tigers, 10, 10000)\n",
    "plt.hist(sample_means[:, 0], 100)\n",
    "plt.show()"
   ]
  },
  {
   "cell_type": "markdown",
   "id": "00851c97",
   "metadata": {},
   "source": [
    "or"
   ]
  },
  {
   "cell_type": "code",
   "execution_count": 39,
   "id": "30f17bdf",
   "metadata": {},
   "outputs": [
    {
     "data": {
      "image/png": "[encoded data removed]",
      "text/plain": [
       "<Figure size 640x480 with 1 Axes>"
      ]
     },
     "metadata": {},
     "output_type": "display_data"
    }
   ],
   "source": [
    "plt.hist(sample_means[:, 1], 100)\n",
    "plt.show()"
   ]
  },
  {
   "cell_type": "markdown",
   "id": "4f151ae5",
   "metadata": {},
   "source": [
    "How does the distribution of the sample means compare with the true mean value?\n",
    "\n",
    "To make a histogram of the variance estimates,"
   ]
  },
  {
   "cell_type": "code",
   "execution_count": 40,
   "id": "b7b2bd9f",
   "metadata": {},
   "outputs": [
    {
     "data": {
      "image/png": "[encoded data removed]",
      "text/plain": [
       "<Figure size 640x480 with 1 Axes>"
      ]
     },
     "metadata": {},
     "output_type": "display_data"
    }
   ],
   "source": [
    "plt.hist(sample_vars[:, 0], 100)\n",
    "plt.show()"
   ]
  },
  {
   "cell_type": "markdown",
   "id": "72dc2535",
   "metadata": {},
   "source": [
    "or"
   ]
  },
  {
   "cell_type": "code",
   "execution_count": 41,
   "id": "ab45b2d2",
   "metadata": {},
   "outputs": [
    {
     "data": {
      "image/png": "[encoded data removed]",
      "text/plain": [
       "<Figure size 640x480 with 1 Axes>"
      ]
     },
     "metadata": {},
     "output_type": "display_data"
    }
   ],
   "source": [
    "plt.hist(sample_vars[:, 1], 100)\n",
    "plt.show()"
   ]
  },
  {
   "cell_type": "markdown",
   "id": "b0b4f4dd",
   "metadata": {},
   "source": [
    "How does the distribution of the sample variance compare with the true variance?\n",
    "\n",
    "Calculate the average of the mean estimates, i.e., apply `np.mean` to `sample_means`. Are the estimates (on average) the same as the true mean value? Do the same for the variance estimates. Are the variance estimates on average the same as the true variance?"
   ]
  },
  {
   "cell_type": "code",
   "execution_count": 44,
   "id": "2596698a",
   "metadata": {},
   "outputs": [
    {
     "name": "stdout",
     "output_type": "stream",
     "text": [
      "[259.9965051  159.96867744]\n",
      "[ 44.74369651 107.49348581]\n"
     ]
    }
   ],
   "source": [
    "# Write your solution here\n",
    "print(np.mean(sample_means, axis=0))\n",
    "print(np.mean(sample_vars, axis=0))\n"
   ]
  },
  {
   "cell_type": "markdown",
   "id": "f24e3a69",
   "metadata": {},
   "source": [
    "## 6. Notes on bias\n",
    "\n",
    "You should have noticed in the previous section that the variance estimates were on average lower than the true variance. The estimate is biased. You can correct for this bias by multiplying the estimate by $N/N-1$ where $N$ is the size of the sample.\n",
    "\n",
    "(Why does the sample variance under-estimate the true variance? Informal explanation: The point to remember is that the variance is the average squared distance of points from the true mean. However, if we have a sample, we can only form an *estimate* of the mean. So when we estimate variance we end up computing the distance of points to the estimated mean not the true mean. The estimated mean is (by definition) going to lie at the centre of our sample of points and will therefore always be closer on average to the sample points than the true mean would have been. This is seen clearly by taking the extreme case of a sample size of 1. For a single point the sample mean will always be the sample itself, i.e. the distance to the sample mean is 0 so the sample variance is 0 - which is clearly a severe underestimate of the true variance.)"
   ]
  },
  {
   "cell_type": "markdown",
   "id": "64e6da2f",
   "metadata": {},
   "source": [
    "## 7. Experimenting with the sample size\n",
    "\n",
    "Now let’s experiment with different sample sizes and see how changing the sample size changes the distribution of the estimates of mean and variance.\n",
    "\n",
    "We will use sample sizes of 2, 5, 10, 20, 40 and 100.\n",
    "\n",
    "Modify your `do_sampling` code by wrapping the sampling loop in an outer loop that sets the sample size. We will want to be able to compare the histograms that are generated for each sample size, so use the subplot command to send each histogram to a different subplot in the same figure.\n",
    "\n",
    "Write the code for this in the empty cell below. You might need to use `plt.figure(figsize=(16, 6))` to resize your plot."
   ]
  },
  {
   "cell_type": "code",
   "execution_count": 52,
   "id": "7a242c6b",
   "metadata": {},
   "outputs": [],
   "source": [
    "# Write your solution here\n",
    "# this may take a minute to run...\n",
    "# pos = 1\n",
    "# plt.figure(figsize=(16, 6))\n",
    "# for sample_size in [2,5,10,20,40,100]:\n",
    "#     sample_means, sample_vars = do_sampling(female_tigers,sample_size,100000)\n",
    "\n",
    "#     ax = plt.subplot(2, 6, pos)\n",
    "#     ax.hist(sample_means[:, 0], 100)\n",
    "#     ax.set_xlim(240, 280)\n",
    "#     # plot histograms for the variances in the botton row of plots\n",
    "#     ax = plt.subplot(2, 6, pos + 6)\n",
    "#     ax.hist(sample_vars[:, 0], 100)\n",
    "#     pos += 1\n",
    "\n",
    "\n",
    "\n",
    "\n"
   ]
  },
  {
   "cell_type": "markdown",
   "id": "17c86121",
   "metadata": {},
   "source": [
    "Note how the distribution of the estimates (i.e., the shape of the histograms) changes as the sample size increases. What do you notice about the width of the distributions?"
   ]
  },
  {
   "cell_type": "markdown",
   "id": "1c0afc66",
   "metadata": {},
   "source": [
    "## 8. Classifying\n",
    "\n",
    "Compare the histogram of weights of the female and male tigers for the entire population. A simple classifier could choose a threshold weight $W$ and then if a tiger weighs more than $W$ it would label it as male and if it weighs less than $W$ it would label it as female. Looking at the histograms, what would be the best choice for the threshold weight $W$?\n",
    "\n"
   ]
  },
  {
   "cell_type": "code",
   "execution_count": 53,
   "id": "c4d91772",
   "metadata": {},
   "outputs": [
    {
     "data": {
      "text/plain": [
       "<matplotlib.legend.Legend at 0x29b71a6e510>"
      ]
     },
     "execution_count": 53,
     "metadata": {},
     "output_type": "execute_result"
    },
    {
     "data": {
      "image/png": "[encoded data removed]",
      "text/plain": [
       "<Figure size 640x480 with 1 Axes>"
      ]
     },
     "metadata": {},
     "output_type": "display_data"
    }
   ],
   "source": [
    "# Write your solution here\n",
    "ax = plt.subplot(2, 1, 1)\n",
    "x = ax.hist(female_tigers[:, 0], 100, alpha=0.5, label=\"female\")\n",
    "x = ax.hist(male_tigers[:, 0], 100, alpha=0.5, label=\"male\")\n",
    "plt.legend(loc=\"upper right\")"
   ]
  },
  {
   "cell_type": "markdown",
   "id": "40f412f0",
   "metadata": {},
   "source": [
    "Now take a sample of 100 female tigers and 100 male tigers. Plot histograms using these small samples. Looking at the histograms choose a threshold weight again. Is the threshold chosen using the small sample the same as the threshold you chose when using knowledge of the full set of data?"
   ]
  },
  {
   "cell_type": "code",
   "execution_count": 57,
   "id": "9596d041",
   "metadata": {},
   "outputs": [
    {
     "data": {
      "text/plain": [
       "<matplotlib.legend.Legend at 0x29b6dc765d0>"
      ]
     },
     "execution_count": 57,
     "metadata": {},
     "output_type": "execute_result"
    },
    {
     "data": {
      "image/png": "[encoded data removed]",
      "text/plain": [
       "<Figure size 640x480 with 1 Axes>"
      ]
     },
     "metadata": {},
     "output_type": "display_data"
    }
   ],
   "source": [
    "# Write your solution here\n",
    "chose_male = np.random.choice(male_tigers.shape[0], 100, replace=False)\n",
    "chose_female = np.random.choice(female_tigers.shape[0], 100, replace=False)\n",
    "\n",
    "ax = plt.subplot(2, 1, 1)\n",
    "x = ax.hist(female_tigers[chose_male, 0], 100, alpha=0.5, label=\"female\")\n",
    "x = ax.hist(male_tigers[chose_female, 0], 100, alpha=0.5, label=\"male\")\n",
    "plt.legend(loc=\"upper right\")\n",
    "\n",
    "#hosen = np.random.choice(data.shape[0], N, replace=False)\n"
   ]
  },
  {
   "cell_type": "markdown",
   "id": "ca6059c9",
   "metadata": {},
   "source": [
    "Having insufficient 'training data' can lead to poor choices when designing classifiers. For machine learning to work well we are going to need to work with large datasets."
   ]
  },
  {
   "cell_type": "markdown",
   "id": "a620c1d7",
   "metadata": {},
   "source": [
    "## PART 2 – Programming Challenge\n",
    "\n",
    "## 9. Programming exercises\n",
    "\n",
    "For the final stage of the notebook you are going to be presented with four short programming exercises. There are many ways of coding solutions to each of these exercises. Some solutions will be a lot more efficient than others. Learning how to write efficient code is one of the challenges of using Python and numpy.\n",
    "\n",
    "For each exercise measure the runtime of your solution. You can do this easily by the Jupyter `%timeit` command. The command measures the time it takes to execute a single line of code. So to time a block of code you can place the code you want to measure in a simple dummy function called `test()` and then use `%timeit` to time how long it takes to execute `test()`, i.e.,\n",
    "\n",
    "    def test():\n",
    "        somecode\n",
    "\n",
    "    %timeit test()\n",
    "\n",
    "As an example, consider the task of generating and storing 10,000 random numbers. There are three example solutions below. The solutions are functionally equivalent but have different runtimes. Writing efficient code can make a huge difference to execution time."
   ]
  },
  {
   "cell_type": "markdown",
   "id": "ad64e7ab",
   "metadata": {},
   "source": [
    "**Method 1** - Using a loop and preallocating storage using `np.zeros`"
   ]
  },
  {
   "cell_type": "code",
   "execution_count": 58,
   "id": "fddd1b34",
   "metadata": {},
   "outputs": [
    {
     "name": "stdout",
     "output_type": "stream",
     "text": [
      "18.1 ms ± 327 µs per loop (mean ± std. dev. of 7 runs, 100 loops each)\n"
     ]
    }
   ],
   "source": [
    "def test():\n",
    "    x = np.zeros(10000)\n",
    "    for n in range(10000):\n",
    "        x[n] = np.random.uniform(0, 1)\n",
    "\n",
    "\n",
    "%timeit test()"
   ]
  },
  {
   "cell_type": "markdown",
   "id": "573912b9",
   "metadata": {},
   "source": [
    "**Method 2** - Using a loop and preallocating unassigned storage using `np.empty`"
   ]
  },
  {
   "cell_type": "code",
   "execution_count": 59,
   "id": "046d9f1a",
   "metadata": {},
   "outputs": [
    {
     "name": "stdout",
     "output_type": "stream",
     "text": [
      "18.4 ms ± 238 µs per loop (mean ± std. dev. of 7 runs, 100 loops each)\n"
     ]
    }
   ],
   "source": [
    "def test():\n",
    "    x = np.empty(10000)\n",
    "    for n in range(10000):\n",
    "        x[n] = np.random.uniform(0, 1)\n",
    "\n",
    "\n",
    "%timeit test()"
   ]
  },
  {
   "cell_type": "markdown",
   "id": "33bc992c",
   "metadata": {},
   "source": [
    "**Method 3** - Avoiding the loop by asking the `numpy.random.uniform` function to generate all the numbers in one call"
   ]
  },
  {
   "cell_type": "code",
   "execution_count": 60,
   "id": "a5a8f4db",
   "metadata": {},
   "outputs": [
    {
     "name": "stdout",
     "output_type": "stream",
     "text": [
      "71.3 µs ± 632 ns per loop (mean ± std. dev. of 7 runs, 10,000 loops each)\n"
     ]
    }
   ],
   "source": [
    "def test():\n",
    "    x = np.random.uniform(0, 1, 10000)\n",
    "\n",
    "\n",
    "%timeit test()"
   ]
  },
  {
   "cell_type": "markdown",
   "id": "af388756",
   "metadata": {},
   "source": [
    "The table shows execution times in *ms* when running on a MacBook Pro,\n",
    "\n",
    "|    | Method 1 | Method 2 | Method 3 |\n",
    "| :- | :-: | :-: | :-: |\n",
    "| Python 3 | 20.8 ms | 20.8 ms | 0.085 ms |\n"
   ]
  },
  {
   "cell_type": "markdown",
   "id": "2682f74f",
   "metadata": {},
   "source": [
    "Note that the last solution is over 200 times faster than the first two!\n",
    "\n",
    "Write solutions to the problems below in any way you please. Measure the execution times of your code for each exercise."
   ]
  },
  {
   "cell_type": "markdown",
   "id": "a13c5a24",
   "metadata": {},
   "source": [
    "**Problem 1** Consider all the multiplications A times B for integers A and B lying in the range 1 to 1000. How many of these end in the digit 7. (Hint: You may want to experiment with the modulus '%' operator.)"
   ]
  },
  {
   "cell_type": "code",
   "execution_count": 76,
   "id": "14a96065",
   "metadata": {},
   "outputs": [
    {
     "name": "stdout",
     "output_type": "stream",
     "text": [
      "4.94 ms ± 202 µs per loop (mean ± std. dev. of 7 runs, 100 loops each)\n"
     ]
    }
   ],
   "source": [
    "# Write your solution here\n",
    "def test():\n",
    "\n",
    "    arr_mul = np.outer(np.arange(1,1001),np.arange(1,1001))\n",
    "    end_in_7 = arr_mul %10 == 7\n",
    "\n",
    "    sum = np.sum(end_in_7)\n",
    "\n",
    "    return sum\n",
    "\n",
    "%timeit test()"
   ]
  },
  {
   "cell_type": "markdown",
   "id": "c8e8f793",
   "metadata": {},
   "source": [
    "**Problem 2** Using the np.random.rand function generate 1,000,000 random numbers in the range 0 to 1 and then find the smallest and largest difference between a pair of adjacent numbers in the list."
   ]
  },
  {
   "cell_type": "code",
   "execution_count": 81,
   "id": "82b3601d",
   "metadata": {},
   "outputs": [
    {
     "name": "stdout",
     "output_type": "stream",
     "text": [
      "11 ms ± 752 µs per loop (mean ± std. dev. of 7 runs, 100 loops each)\n"
     ]
    }
   ],
   "source": [
    "# Write your solution here\n",
    "\n",
    "def test():\n",
    "    r = np.random.rand(1000000)\n",
    "\n",
    "    d = np.diff(r)\n",
    "\n",
    "    return d.max(), d.min()\n",
    "    \n",
    "\n",
    "%timeit test()"
   ]
  },
  {
   "cell_type": "markdown",
   "id": "3e3b364d",
   "metadata": {},
   "source": [
    "**Problem 3** Find the integers A and B in the range 1 to 1000 for which A/B lies closest to pi/4."
   ]
  },
  {
   "cell_type": "code",
   "execution_count": 92,
   "id": "dfa676b0",
   "metadata": {},
   "outputs": [
    {
     "name": "stdout",
     "output_type": "stream",
     "text": [
      "[452 904]\n"
     ]
    }
   ],
   "source": [
    "# Write your solution here\n",
    "def test():\n",
    "    x = np.arange(1,1001)\n",
    "    m = np.outer(x,1/x)\n",
    "\n",
    "    diff = np.min(np.abs(np.pi/4 - m))\n",
    "    indices = np.where(np.abs(np.pi/4 - m) == diff)\n",
    "\n",
    "    return x[indices[1]]\n",
    "\n",
    "print(test())"
   ]
  },
  {
   "cell_type": "markdown",
   "id": "d1953442",
   "metadata": {},
   "source": [
    "**Problem 4** A random number is selected between 0 and 1 (with a uniform distribution). If a sequence of 4 such numbers is independently generated what is the probability that the sequence will be in ascending order? Estimate the probability by performing the experiment 1,000,000 times."
   ]
  },
  {
   "cell_type": "code",
   "execution_count": null,
   "id": "fdbb8c2a",
   "metadata": {},
   "outputs": [],
   "source": [
    "# Write your solution here"
   ]
  }
 ],
 "metadata": {
  "jupytext": {
   "cell_metadata_json": true,
   "encoding": "# -*- coding: utf-8 -*-",
   "formats": "ipynb,py:percent"
  },
  "kernelspec": {
   "display_name": "Python 3.10.7 ('env')",
   "language": "python",
   "name": "python3"
  },
  "language_info": {
   "codemirror_mode": {
    "name": "ipython",
    "version": 3
   },
   "file_extension": ".py",
   "mimetype": "text/x-python",
   "name": "python",
   "nbconvert_exporter": "python",
   "pygments_lexer": "ipython3",
   "version": "3.11.4"
  }
 },
 "nbformat": 4,
 "nbformat_minor": 5
}
