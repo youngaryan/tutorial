{
  "cells": [
    {
      "cell_type": "code",
      "execution_count": 115,
      "metadata": {
        "id": "TYNivYv-3cLH"
      },
      "outputs": [],
      "source": [
        "import torch\n",
        "import torch.nn.functional as F\n",
        "import matplotlib.pyplot as plt # for making figures\n",
        "%matplotlib inline"
      ]
    },
    {
      "cell_type": "code",
      "execution_count": 116,
      "metadata": {
        "id": "koPkrUZUyEZk"
      },
      "outputs": [],
      "source": [
        "words = open('names.txt', 'r').read().splitlines()"
      ]
    },
    {
      "cell_type": "code",
      "execution_count": 117,
      "metadata": {
        "colab": {
          "base_uri": "https://localhost:8080/"
        },
        "id": "rwlDE9fw3_26",
        "outputId": "04bb5ae6-fe48-45a4-8373-b0538fc2e953"
      },
      "outputs": [
        {
          "data": {
            "text/plain": [
              "{1: 'a',\n",
              " 2: 'b',\n",
              " 3: 'c',\n",
              " 4: 'd',\n",
              " 5: 'e',\n",
              " 6: 'f',\n",
              " 7: 'g',\n",
              " 8: 'h',\n",
              " 9: 'i',\n",
              " 10: 'j',\n",
              " 11: 'k',\n",
              " 12: 'l',\n",
              " 13: 'm',\n",
              " 14: 'n',\n",
              " 15: 'o',\n",
              " 16: 'p',\n",
              " 17: 'q',\n",
              " 18: 'r',\n",
              " 19: 's',\n",
              " 20: 't',\n",
              " 21: 'u',\n",
              " 22: 'v',\n",
              " 23: 'w',\n",
              " 24: 'x',\n",
              " 25: 'y',\n",
              " 26: 'z',\n",
              " 0: '.'}"
            ]
          },
          "execution_count": 117,
          "metadata": {},
          "output_type": "execute_result"
        }
      ],
      "source": [
        "# building  the vocabulary of chars and mapping to/ from int\n",
        "chars = sorted(list(set(''.join(words))))\n",
        "stoi = {s:i+1 for i,s in enumerate(chars)}\n",
        "stoi['.'] =0\n",
        "itos = {i:s for s,i in stoi.items()}\n",
        "itos"
      ]
    },
    {
      "cell_type": "code",
      "execution_count": 118,
      "metadata": {
        "colab": {
          "base_uri": "https://localhost:8080/"
        },
        "id": "lJ66hE7t4_4m",
        "outputId": "67974f59-bd16-43a8-ffcc-f5a2ff5360e8"
      },
      "outputs": [
        {
          "name": "stdout",
          "output_type": "stream",
          "text": [
            "torch.Size([228146, 3])\n",
            "torch.Size([228146])\n"
          ]
        }
      ],
      "source": [
        "block_size = 3\n",
        "X, Y = [],[]\n",
        "\n",
        "for w in words:\n",
        "  # print(w)\n",
        "  context = [0] * block_size\n",
        "  for ch in w + '.':\n",
        "    ix = stoi[ch]\n",
        "    X.append(context)\n",
        "    Y.append(ix)\n",
        "    context = context[1:] + [ix]\n",
        "\n",
        "X = torch.tensor(X)\n",
        "Y = torch.tensor(Y)\n",
        "# print(\"X: \",X)\n",
        "# print(\"Y: \",Y)\n",
        "print(X.shape)\n",
        "print(Y.shape)\n"
      ]
    },
    {
      "cell_type": "code",
      "execution_count": 119,
      "metadata": {},
      "outputs": [],
      "source": [
        "g = torch.Generator().manual_seed(2147483647)\n",
        "C = torch.rand(27,2, generator=g)\n",
        "W1 = torch.rand((6,100), generator=g)\n",
        "b1 = torch.rand(100, generator=g)\n",
        "W2 = torch.rand((100, 27), generator=g)\n",
        "b2 = torch.rand(27, generator=g)\n",
        "paremeters = [C, W1, b1, W2, b2]\n",
        "\n",
        "\n",
        "\n",
        "for p in paremeters:\n",
        "    p.requires_grad = True"
      ]
    },
    {
      "cell_type": "code",
      "execution_count": 132,
      "metadata": {},
      "outputs": [
        {
          "name": "stdout",
          "output_type": "stream",
          "text": [
            "2.0967178344726562\n"
          ]
        }
      ],
      "source": [
        "for _ in range(10000):\n",
        "    ##forward\n",
        "\n",
        "    # minibatch construction\n",
        "    minibatch = torch.randint(0, X.shape[0], (32,)) \n",
        "\n",
        "    emb = C[X[minibatch]]\n",
        "    h =torch.tanh(emb.view(emb.shape[0],6 ) @ W1 + b1)\n",
        "    logits = h @ W2 + b2\n",
        "    loss =F.cross_entropy(logits,Y[minibatch])\n",
        "    ##backward\n",
        "    for p in paremeters:\n",
        "        p.grad = None\n",
        "\n",
        "    loss.backward()\n",
        "    ##update\n",
        "\n",
        "    for p in paremeters:\n",
        "        p.data += -0.1 * p.grad\n",
        "\n",
        "\n",
        "print (loss.item())\n",
        "\n"
      ]
    }
  ],
  "metadata": {
    "colab": {
      "provenance": []
    },
    "kernelspec": {
      "display_name": "Python 3",
      "name": "python3"
    },
    "language_info": {
      "codemirror_mode": {
        "name": "ipython",
        "version": 3
      },
      "file_extension": ".py",
      "mimetype": "text/x-python",
      "name": "python",
      "nbconvert_exporter": "python",
      "pygments_lexer": "ipython3",
      "version": "3.11.4"
    }
  },
  "nbformat": 4,
  "nbformat_minor": 0
}
