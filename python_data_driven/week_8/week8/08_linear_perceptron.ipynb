{
  "cells": [
    {
      "cell_type": "markdown",
      "id": "ae2223fa",
      "metadata": {
        "id": "ae2223fa"
      },
      "source": [
        "# COM2004/3004 - Linear Classification"
      ]
    },
    {
      "cell_type": "markdown",
      "id": "9b2b8366",
      "metadata": {
        "id": "9b2b8366"
      },
      "source": [
        "*Copyright &copy; 2023 University of Sheffield. All rights reserved*."
      ]
    },
    {
      "cell_type": "markdown",
      "id": "2f907d23",
      "metadata": {
        "id": "2f907d23"
      },
      "source": [
        "## Objectives\n",
        "\n",
        "* To gain some practical experience with linear classification with perceptron algorithm.\n",
        "* To compare the performance of agenerative model and a discriminative model on a challenging classification task.\n",
        "\n",
        "## 1. Background\n",
        "\n",
        "In this lab class, we will be practice building a linear classifier using perceptron. We will reuse the abalone data been used in week 5 lab, and you should able to directly comparing the ‘generative modelling’ and ‘discriminative modelling’ ap- proaches to linear classification.\n",
        "\n",
        "## 2. Introduction\n",
        "\n",
        "In this notebook we will be reuse data set from the UCI machine-learning repository: abalone data. An abalone is a type of sea snail. The age of a specimen can be determined by cutting the shell through the cone and counting rings through a microscope (rather like trees), but this is a time consuming and expensive procedure. The task here is to try and predict the number of rings given simple external measurements of the weight and dimension of the animal.\n",
        "\n",
        "For the data set that we are using, the true value for the number of rings is known (i.e., the rings were counted after the snails were measured). Results vary from 1 to 29 rings, so this would usually be treated as a 29-class classification problem. To simplify things a little I have regrouped the data into just two classes of roughly equal size: young (less than 10 rings) and old (10 or more rings). I have also only taken the female samples. There are 7 measurements (which are all quite highly correlated) that are to be used to predict the class label. (The precise meaning of the measurements can be found here http://archive.ics.uci.edu/ml/machine-learning-databases/abalone/abalone.names)\n",
        "\n",
        "Compared to the wine classification task, this task is more challenging. It will be impossible to get 100% correct because the classes are not linearly separable. Further, most of the specimens have either 8, 9, 10 or 11 rings and so lie close to the young/old borderline. However, you should be able to get percentage correct scores that are considerably higher than the 50% that would be expected by guessing alone."
      ]
    },
    {
      "cell_type": "markdown",
      "id": "cc297381",
      "metadata": {
        "id": "cc297381"
      },
      "source": [
        "## Task 1. Obtaining data\n",
        "\n",
        "As in previous lab classes, the data can be read directly into an numpy array using the numpy loadtxt function, as in the cell below. The data will form a matrix with 1,307 rows and 8 columns. Each row is a separate sample (i.e., a different snail). The last column stores a class label (1 for ‘young’ or 2 for ‘old’). Columns 1 to 7 are the results of the 7 length and weight measurements."
      ]
    },
    {
      "cell_type": "code",
      "execution_count": null,
      "id": "8f8d4f10",
      "metadata": {
        "id": "8f8d4f10"
      },
      "outputs": [],
      "source": [
        "from google.colab import drive\n",
        "drive.mount('/content/drive')\n",
        "\n",
        "import numpy as np\n",
        "X = np.loadtxt(open(\"data/abalone.txt\", \"r\"))\n",
        "X.shape\n",
        "\n",
        "print(X)\n",
        "# Same as week 5 lab, we first need to split the data into training and testing.\n",
        "abalone1 = X[X[:, 0] == 1, :]\n",
        "abalone2 = X[X[:, 0] == 2, :]\n",
        "abalone1_test = abalone1[0::2, :]\n",
        "abalone1_train = abalone1[1::2, :]\n",
        "abalone2_test = abalone2[0::2, :]\n",
        "abalone2_train = abalone2[1::2, :]\n",
        "abalone_test = np.vstack((abalone1_test, abalone2_test))\n",
        "abalone_test.shape\n",
        "\n",
        "abalone_train = np.vstack((abalone1_train, abalone2_train))\n",
        "abalone_train.shape\n",
        "\n",
        "# Data without the label\n",
        "abalone_train_data = abalone_train[:, 1:]\n",
        "\n",
        "nsamples, nfeatures = abalone_train_data.shape\n",
        "\n",
        "# The orignal label are 1 for positive class and 2 for negative class, it might easier to map labels from (1, 2) to (1, -1)\n",
        "abalone_train_labels = np.where(abalone_train[:, 0] == 1, 1.0, -1.0)\n"
      ]
    },
    {
      "cell_type": "markdown",
      "id": "9b6034a1",
      "metadata": {
        "id": "9b6034a1"
      },
      "source": [
        "## 5. Disciminative modeling: the Perceptron learning algorithm ##\n",
        "\n",
        " We will look at a discriminative approach to classification in which the\n",
        "\n",
        "The perceptron learning algorithm is quite easy to implement. The function should take several inputs: training data, training_labels, an initial guess at the weights and a learning rate. **Note, the class labels have to be given the values +1 and -1 for the two classes**. It will return a tuple containing:\n",
        "<ol>\n",
        "    <li>learnt w parameters</li>\n",
        "    <li>the number of iterations performed</li>\n",
        "    <li>the number of misclassified samples</li>\n",
        "</ol>"
      ]
    },
    {
      "cell_type": "code",
      "source": [
        "def perce(X, y, w_init, gamma, max_iter=1000):\n",
        "    \"\"\" perce\n",
        "    A simple but inefficient implementation of the perceptron learning alogorithm\n",
        "\n",
        "    X - the data matrix. Each row represents a separate sample\n",
        "    y - a 1-D array of integer class labels corresponding to the rows of X - labels must be +1 or -1\n",
        "    w_init - the initial weight vector\n",
        "    gamma - a scalar learning rate\n",
        "    max_iter - maximum number of iterations (defaults to 1000)\n",
        "    \"\"\"\n",
        "    (N, nfeatures) = X.shape\n",
        "\n",
        "    # Augment the feature vectors by adding a 1 to each one. (see lecture notes)\n",
        "    X = np.hstack((X, np.ones((N, 1))))\n",
        "    nfeatures += 1\n",
        "\n",
        "    w = w_init  # initialise weights\n",
        "    iter = 0\n",
        "    mis_class = N  # start by assuming all samples are misclassified\n",
        "\n",
        "    while mis_class > 0 and iter < max_iter:\n",
        "        '''\n",
        "         complete the code here\n",
        "        '''\n",
        "    return w, iter, mis_class"
      ],
      "metadata": {
        "id": "ux3-XcbD3pBg"
      },
      "id": "ux3-XcbD3pBg",
      "execution_count": null,
      "outputs": []
    },
    {
      "cell_type": "markdown",
      "source": [
        "Now use perceptron function with the same training data that you used previously in order to learn the weights.\n",
        "\n",
        "Experiment with different learning rates and different numbers of iterations. The function returns the number of errors that are made on the training set. You want this number to be as low as possible."
      ],
      "metadata": {
        "id": "gtUgmy9p55to"
      },
      "id": "gtUgmy9p55to"
    },
    {
      "cell_type": "code",
      "source": [
        "'''\n",
        "complete the code here\n",
        "'''"
      ],
      "metadata": {
        "id": "MCUPycjm56_0"
      },
      "id": "MCUPycjm56_0",
      "execution_count": null,
      "outputs": []
    },
    {
      "cell_type": "markdown",
      "source": [
        "**Evaluating the classifier:** You now need to evaluate the $\\mathbf{w}$ vector that the learning algorithm has produced. To do this you will need to evaluate $\\mathbf{w}’\\mathbf{x}+b$ for each element in the $test$ set and then generate a class label by comparing the result against 0, i.e., output 1 or 2 depending on whether the result is higher than or lower than 0. Then compute the percentage of labels that match the correct test set labels. (It is best to write a little function to do this.)"
      ],
      "metadata": {
        "id": "iA7EXEJz5-rF"
      },
      "id": "iA7EXEJz5-rF"
    },
    {
      "cell_type": "code",
      "source": [
        "'''\n",
        "complete the code here\n",
        "'''"
      ],
      "metadata": {
        "id": "NjHH4NJ26BJb"
      },
      "id": "NjHH4NJ26BJb",
      "execution_count": null,
      "outputs": []
    },
    {
      "cell_type": "markdown",
      "source": [
        "How well does the new classifier perform? How does performance compare with the linear classifier that you built using Gaussians?"
      ],
      "metadata": {
        "id": "8Xt5iJtM6IIL"
      },
      "id": "8Xt5iJtM6IIL"
    }
  ],
  "metadata": {
    "kernelspec": {
      "display_name": "Python 3 (ipykernel)",
      "language": "python",
      "name": "python3"
    },
    "language_info": {
      "codemirror_mode": {
        "name": "ipython",
        "version": 3
      },
      "file_extension": ".py",
      "mimetype": "text/x-python",
      "name": "python",
      "nbconvert_exporter": "python",
      "pygments_lexer": "ipython3",
      "version": "3.9.12"
    },
    "colab": {
      "provenance": []
    }
  },
  "nbformat": 4,
  "nbformat_minor": 5
}